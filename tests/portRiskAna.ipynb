{
 "cells": [
  {
   "cell_type": "markdown",
   "id": "8d1a9f06",
   "metadata": {},
   "source": [
    "<span style=\"font-size:40px; font-family:'Times new roman'; font-weight:bold\">\n",
    "Import Data 🎒\n",
    "</span>"
   ]
  },
  {
   "cell_type": "code",
   "execution_count": 8,
   "id": "2f12940a",
   "metadata": {},
   "outputs": [],
   "source": [
    "import sys\n",
    "import pandas as pd\n",
    "import matplotlib.pyplot as plt\n",
    "import seaborn as sns\n",
    "\n",
    "sys.path.append('../src')\n",
    "from binomial import binomial\n",
    "from greeks import greeks"
   ]
  },
  {
   "cell_type": "code",
   "execution_count": 9,
   "id": "17b67519",
   "metadata": {},
   "outputs": [],
   "source": [
    "nvda = pd.read_csv(\"../data/cleanedNVDA.csv\")\n",
    "spy = pd.read_csv(\"../data/cleanedSPY.csv\")"
   ]
  },
  {
   "cell_type": "markdown",
   "id": "6dc2abb4",
   "metadata": {},
   "source": [
    "<span style=\"font-size:20px; font-family:'Times new roman'; font-weight:bold\">\n",
    "Choose All ATM Options 💻\n",
    "</span>"
   ]
  },
  {
   "cell_type": "code",
   "execution_count": 19,
   "id": "bbea0e5d",
   "metadata": {},
   "outputs": [],
   "source": [
    "nvdaSpot = nvda['spot'].iloc[0]\n",
    "spySpot = spy['spot'].iloc[0]\n",
    "\n",
    "nvda['moneyness'] = nvda['strike']/nvdaSpot\n",
    "spy['moneyness'] = spy['strike']/spySpot\n",
    "\n",
    "portfolio1 = nvda[(nvda['moneyness'] >= 0.95) & (nvda['moneyness'] <= 1.05)].copy()\n",
    "portfolio1['quantity'] = 1\n",
    "\n",
    "portfolio2 = spy[(spy['moneyness'] >= 0.95) & (spy['moneyness'] <= 1.05)].copy()\n",
    "portfolio2['quantity'] = 1"
   ]
  },
  {
   "cell_type": "code",
   "execution_count": 20,
   "id": "04a6a83c",
   "metadata": {},
   "outputs": [
    {
     "data": {
      "text/html": [
       "<div>\n",
       "<style scoped>\n",
       "    .dataframe tbody tr th:only-of-type {\n",
       "        vertical-align: middle;\n",
       "    }\n",
       "\n",
       "    .dataframe tbody tr th {\n",
       "        vertical-align: top;\n",
       "    }\n",
       "\n",
       "    .dataframe thead th {\n",
       "        text-align: right;\n",
       "    }\n",
       "</style>\n",
       "<table border=\"1\" class=\"dataframe\">\n",
       "  <thead>\n",
       "    <tr style=\"text-align: right;\">\n",
       "      <th></th>\n",
       "      <th>type</th>\n",
       "      <th>strike</th>\n",
       "      <th>ttm</th>\n",
       "      <th>AveragePrice</th>\n",
       "      <th>impliedVolatility</th>\n",
       "      <th>spot</th>\n",
       "      <th>dividendYield</th>\n",
       "      <th>expiry</th>\n",
       "      <th>volume</th>\n",
       "      <th>modelPrice</th>\n",
       "      <th>moneyness</th>\n",
       "      <th>quantity</th>\n",
       "    </tr>\n",
       "  </thead>\n",
       "  <tbody>\n",
       "    <tr>\n",
       "      <th>5</th>\n",
       "      <td>call</td>\n",
       "      <td>90.0</td>\n",
       "      <td>0.00274</td>\n",
       "      <td>11.150</td>\n",
       "      <td>0.885133</td>\n",
       "      <td>94.309998</td>\n",
       "      <td>0.04</td>\n",
       "      <td>2025-05-02</td>\n",
       "      <td>1444.0</td>\n",
       "      <td>4.656769</td>\n",
       "      <td>0.954300</td>\n",
       "      <td>1</td>\n",
       "    </tr>\n",
       "    <tr>\n",
       "      <th>6</th>\n",
       "      <td>call</td>\n",
       "      <td>95.0</td>\n",
       "      <td>0.00274</td>\n",
       "      <td>7.725</td>\n",
       "      <td>0.786745</td>\n",
       "      <td>94.309998</td>\n",
       "      <td>0.04</td>\n",
       "      <td>2025-05-02</td>\n",
       "      <td>3115.0</td>\n",
       "      <td>1.233758</td>\n",
       "      <td>1.007316</td>\n",
       "      <td>1</td>\n",
       "    </tr>\n",
       "    <tr>\n",
       "      <th>7</th>\n",
       "      <td>call</td>\n",
       "      <td>99.0</td>\n",
       "      <td>0.00274</td>\n",
       "      <td>5.850</td>\n",
       "      <td>0.762087</td>\n",
       "      <td>94.309998</td>\n",
       "      <td>0.04</td>\n",
       "      <td>2025-05-02</td>\n",
       "      <td>576.0</td>\n",
       "      <td>0.207305</td>\n",
       "      <td>1.049730</td>\n",
       "      <td>1</td>\n",
       "    </tr>\n",
       "    <tr>\n",
       "      <th>55</th>\n",
       "      <td>put</td>\n",
       "      <td>90.0</td>\n",
       "      <td>0.00274</td>\n",
       "      <td>4.650</td>\n",
       "      <td>0.659183</td>\n",
       "      <td>94.309998</td>\n",
       "      <td>0.04</td>\n",
       "      <td>2025-05-02</td>\n",
       "      <td>7701.0</td>\n",
       "      <td>0.128085</td>\n",
       "      <td>0.954300</td>\n",
       "      <td>1</td>\n",
       "    </tr>\n",
       "    <tr>\n",
       "      <th>56</th>\n",
       "      <td>put</td>\n",
       "      <td>95.0</td>\n",
       "      <td>0.00274</td>\n",
       "      <td>6.650</td>\n",
       "      <td>0.614018</td>\n",
       "      <td>94.309998</td>\n",
       "      <td>0.04</td>\n",
       "      <td>2025-05-02</td>\n",
       "      <td>5863.0</td>\n",
       "      <td>1.588721</td>\n",
       "      <td>1.007316</td>\n",
       "      <td>1</td>\n",
       "    </tr>\n",
       "    <tr>\n",
       "      <th>57</th>\n",
       "      <td>put</td>\n",
       "      <td>99.0</td>\n",
       "      <td>0.00274</td>\n",
       "      <td>8.025</td>\n",
       "      <td>0.511235</td>\n",
       "      <td>94.309998</td>\n",
       "      <td>0.04</td>\n",
       "      <td>2025-05-02</td>\n",
       "      <td>442.0</td>\n",
       "      <td>4.723871</td>\n",
       "      <td>1.049730</td>\n",
       "      <td>1</td>\n",
       "    </tr>\n",
       "  </tbody>\n",
       "</table>\n",
       "</div>"
      ],
      "text/plain": [
       "    type  strike      ttm  AveragePrice  impliedVolatility       spot  \\\n",
       "5   call    90.0  0.00274        11.150           0.885133  94.309998   \n",
       "6   call    95.0  0.00274         7.725           0.786745  94.309998   \n",
       "7   call    99.0  0.00274         5.850           0.762087  94.309998   \n",
       "55   put    90.0  0.00274         4.650           0.659183  94.309998   \n",
       "56   put    95.0  0.00274         6.650           0.614018  94.309998   \n",
       "57   put    99.0  0.00274         8.025           0.511235  94.309998   \n",
       "\n",
       "    dividendYield      expiry  volume  modelPrice  moneyness  quantity  \n",
       "5            0.04  2025-05-02  1444.0    4.656769   0.954300         1  \n",
       "6            0.04  2025-05-02  3115.0    1.233758   1.007316         1  \n",
       "7            0.04  2025-05-02   576.0    0.207305   1.049730         1  \n",
       "55           0.04  2025-05-02  7701.0    0.128085   0.954300         1  \n",
       "56           0.04  2025-05-02  5863.0    1.588721   1.007316         1  \n",
       "57           0.04  2025-05-02   442.0    4.723871   1.049730         1  "
      ]
     },
     "execution_count": 20,
     "metadata": {},
     "output_type": "execute_result"
    }
   ],
   "source": [
    "portfolio1"
   ]
  },
  {
   "cell_type": "markdown",
   "id": "93c82274",
   "metadata": {},
   "source": [
    "<span style=\"font-size:20px; font-family:'Times new roman'; font-weight:bold\">\n",
    "Choose Top Liquid Options 💻\n",
    "</span>"
   ]
  },
  {
   "cell_type": "code",
   "execution_count": 12,
   "id": "bfb16ef5",
   "metadata": {},
   "outputs": [],
   "source": [
    "portfolio3 = nvda[nvda['volume']>0].sort_values(by='volume', ascending=False).head(10).copy()\n",
    "portfolio3['quantity'] = 1\n",
    "\n",
    "portfolio4 = spy[spy['volume']>0].sort_values(by='volume', ascending=False).head(10).copy()\n",
    "portfolio4['quantity'] = 1"
   ]
  },
  {
   "cell_type": "code",
   "execution_count": 33,
   "id": "7c3b80fe",
   "metadata": {},
   "outputs": [],
   "source": [
    "def calculateGreeks(data):\n",
    "    outputGreeks = []\n",
    "\n",
    "    for _, row in data.iterrows():\n",
    "        greek = greeks(\n",
    "            S=row['spot'],\n",
    "            K=row['strike'],\n",
    "            T=row['ttm'],\n",
    "            sigma=row['impliedVolatility'],\n",
    "            q=row['dividendYield'],\n",
    "            ot=row['type']\n",
    "        )\n",
    "        greek['strike'] = row['strike']\n",
    "        greek['type'] = row['type']\n",
    "        greek['spot'] = row['spot']\n",
    "        greek['quantity'] = row['quantity']\n",
    "        outputGreeks.append(greek)\n",
    "\n",
    "    df = pd.DataFrame(outputGreeks)\n",
    "    return df"
   ]
  },
  {
   "cell_type": "code",
   "execution_count": 34,
   "id": "63cf0bab",
   "metadata": {},
   "outputs": [],
   "source": [
    "def calPortGreek(data, label):\n",
    "    data = calculateGreeks(data)\n",
    "    portfolioDelta = data['delta'].sum()\n",
    "    portfolioGamma = data['gamma'].sum()\n",
    "    portfolioTheta = data['theta'].sum()\n",
    "    portfolioVega = data['vega'].sum()\n",
    "\n",
    "    print(f\"✅ Portfolio{label} Greeks (Unweighted):\")\n",
    "    print(f\"Total Delta: {portfolioDelta:.2f}\")\n",
    "    print(f\"Total Gamma: {portfolioGamma:.2f}\")\n",
    "    print(f\"Total Theta: {portfolioTheta:.2f}\")\n",
    "    print(f\"Total Vega: {portfolioVega:.2f}\")"
   ]
  },
  {
   "cell_type": "code",
   "execution_count": 35,
   "id": "58f3e785",
   "metadata": {},
   "outputs": [
    {
     "name": "stdout",
     "output_type": "stream",
     "text": [
      "✅ Portfolio1 Greeks (Unweighted):\n",
      "Total Delta: -0.22\n",
      "Total Gamma: 0.51\n",
      "Total Theta: 0.00\n",
      "Total Vega: 7.00\n",
      "✅ Portfolio2 Greeks (Unweighted):\n",
      "Total Delta: -2.30\n",
      "Total Gamma: 0.38\n",
      "Total Theta: 0.00\n",
      "Total Vega: 95.73\n",
      "✅ Portfolio3 Greeks (Unweighted):\n",
      "Total Delta: -2.14\n",
      "Total Gamma: 0.36\n",
      "Total Theta: 0.00\n",
      "Total Vega: 5.53\n",
      "✅ Portfolio4 Greeks (Unweighted):\n",
      "Total Delta: -2.74\n",
      "Total Gamma: 0.03\n",
      "Total Theta: 0.00\n",
      "Total Vega: 9.15\n"
     ]
    }
   ],
   "source": [
    "calPortGreek(portfolio1, 1)\n",
    "calPortGreek(portfolio2, 2)\n",
    "calPortGreek(portfolio3, 3)\n",
    "calPortGreek(portfolio4, 4)"
   ]
  },
  {
   "cell_type": "markdown",
   "id": "8c4f06cd",
   "metadata": {},
   "source": [
    "<span style=\"font-size:15px; font-family:'Times new roman';\">\n",
    "in practical, each contrect contain 100 stocks per option so i need to weight the portfolio too\n",
    "</span>"
   ]
  },
  {
   "cell_type": "code",
   "execution_count": 38,
   "id": "fc17287f",
   "metadata": {},
   "outputs": [],
   "source": [
    "def adjPortfolio(data, label):\n",
    "\n",
    "    # Apply multiplier\n",
    "    data = calculateGreeks(data)\n",
    "    contractSize = 100\n",
    "    data['delta_adj'] = data['delta'] * data['quantity'] * contractSize\n",
    "    data['gamma_adj'] = data['gamma'] * data['quantity'] * contractSize\n",
    "    data['theta_adj'] = data['theta'] * data['quantity'] * contractSize\n",
    "    data['vega_adj']  = data['vega']  * data['quantity'] * contractSize\n",
    "\n",
    "    print(f\"✅ Portfolio{label} Greeks (Weighted):\")\n",
    "    print(\"Delta:\", data['delta_adj'].sum())\n",
    "    print(\"Gamma:\", data['gamma_adj'].sum())\n",
    "    print(\"Theta:\", data['theta_adj'].sum())\n",
    "    print(\"Vega :\", data['vega_adj'].sum())"
   ]
  },
  {
   "cell_type": "code",
   "execution_count": 40,
   "id": "666788c8",
   "metadata": {},
   "outputs": [
    {
     "name": "stdout",
     "output_type": "stream",
     "text": [
      "✅ Portfolio1 Greeks (Weighted):\n",
      "Delta: -22.39346521962571\n",
      "Gamma: 51.208488370000694\n",
      "Theta: 0.0\n",
      "Vega : 699.8057573312855\n",
      "✅ Portfolio2 Greeks (Weighted):\n",
      "Delta: -230.35198392961104\n",
      "Gamma: 37.61370202285886\n",
      "Theta: 0.0\n",
      "Vega : 9573.013603576592\n",
      "✅ Portfolio3 Greeks (Weighted):\n",
      "Delta: -214.34861654856795\n",
      "Gamma: 35.57827494886438\n",
      "Theta: 0.0\n",
      "Vega : 553.1594480668346\n",
      "✅ Portfolio4 Greeks (Weighted):\n",
      "Delta: -273.85473349377077\n",
      "Gamma: 3.3493821870469676\n",
      "Theta: 0.0\n",
      "Vega : 914.9373089706982\n"
     ]
    }
   ],
   "source": [
    "adjPortfolio(portfolio1, 1)\n",
    "adjPortfolio(portfolio2, 2)\n",
    "adjPortfolio(portfolio3, 3)\n",
    "adjPortfolio(portfolio4, 4)"
   ]
  }
 ],
 "metadata": {
  "kernelspec": {
   "display_name": "Python 3",
   "language": "python",
   "name": "python3"
  },
  "language_info": {
   "codemirror_mode": {
    "name": "ipython",
    "version": 3
   },
   "file_extension": ".py",
   "mimetype": "text/x-python",
   "name": "python",
   "nbconvert_exporter": "python",
   "pygments_lexer": "ipython3",
   "version": "3.13.2"
  }
 },
 "nbformat": 4,
 "nbformat_minor": 5
}
