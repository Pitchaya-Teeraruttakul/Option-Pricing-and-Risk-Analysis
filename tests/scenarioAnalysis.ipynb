{
 "cells": [
  {
   "cell_type": "markdown",
   "id": "30cecab6",
   "metadata": {},
   "source": [
    "<span style=\"font-size:40px; font-family:'Times new roman'; font-weight:bold\">\n",
    "Import Data 🎒\n",
    "</span>"
   ]
  },
  {
   "cell_type": "code",
   "execution_count": 51,
   "id": "0836eed2",
   "metadata": {},
   "outputs": [],
   "source": [
    "import sys\n",
    "import pandas as pd\n",
    "import matplotlib.pyplot as plt\n",
    "import seaborn as sns\n",
    "\n",
    "sys.path.append('../src')\n",
    "from binomial import binomial\n",
    "from greeks import greeks"
   ]
  },
  {
   "cell_type": "code",
   "execution_count": 52,
   "id": "00ce2229",
   "metadata": {},
   "outputs": [],
   "source": [
    "nvda = pd.read_csv(\"../data/cleanedNVDA.csv\")\n",
    "spy = pd.read_csv(\"../data/cleanedSPY.csv\")\n",
    "expiry = [nvda['expiry'].unique()[0], spy['expiry'].unique()[0]]"
   ]
  },
  {
   "cell_type": "markdown",
   "id": "cb44aa71",
   "metadata": {},
   "source": [
    "<span style=\"font-size:20px; font-family:'Times new roman';\">\n",
    "Let's use the nearest strike to spot and TTM\n",
    "</span>"
   ]
  },
  {
   "cell_type": "code",
   "execution_count": 126,
   "id": "722e8bde",
   "metadata": {},
   "outputs": [],
   "source": [
    "def calculateScenario(data):\n",
    "\n",
    "    # sample data: row 6 from NVDAcleaned\n",
    "    row = data.iloc[4]\n",
    "\n",
    "    S = row['spot']\n",
    "    K = row['strike']\n",
    "    T = row['ttm']\n",
    "    sigma = row['impliedVolatility']\n",
    "    q = row['dividendYield']\n",
    "    ot = row['type']\n",
    "\n",
    "    scenario = {}\n",
    "\n",
    "    # Original case\n",
    "    scenario['Base'] = greeks(S, K, T, q, ot, sigma)\n",
    "\n",
    "    # Spot Price +10%\n",
    "    scenario['Spot Up 10%'] = greeks(S * 1.10, K, T, q, ot, sigma)\n",
    "\n",
    "    # Spot Price -10%\n",
    "    scenario['Spot Down 10%'] = greeks(S * 0.90, K, T, q, ot, sigma)\n",
    "\n",
    "    # Volatility +10%\n",
    "    scenario['Vol Up 10%'] = greeks(S, K, T, q, ot, sigma * 1.10)\n",
    "\n",
    "    # Volatility -10%\n",
    "    scenario['Vol Down 10%'] = greeks(S, K, T, q, ot, sigma * 0.90)\n",
    "\n",
    "    # Time Decay: 5 day\n",
    "    if T - (5/365) > 0:\n",
    "        scenario['5 Days Less'] = greeks(S, K, T - (5/365), q, ot, sigma)\n",
    "    else:\n",
    "        scenario['5 Days Less'] = None\n",
    "    \n",
    "    scenario = pd.DataFrame.from_dict({k: v for k, v in scenario.items() if v is not None}, orient='index')\n",
    "    scenario.index.name = 'Scenario'\n",
    "    scenario.reset_index(inplace=True)\n",
    "\n",
    "    return scenario\n"
   ]
  },
  {
   "cell_type": "code",
   "execution_count": 132,
   "id": "13e04d6f",
   "metadata": {},
   "outputs": [],
   "source": [
    "def plotCheck(data, label):\n",
    "    \n",
    "    melted = data.melt(id_vars=['Scenario'],\n",
    "                       value_vars=['delta', 'gamma', 'theta', 'vega'],\n",
    "                       var_name='Greek',\n",
    "                       value_name='Value')\n",
    "\n",
    "    plt.figure(figsize=(7.5,4.5))\n",
    "    sns.barplot(data=melted, x='Scenario', y='Value', hue='Greek')\n",
    "    plt.title(f'{label} - Impact of Scenarios on Greeks')\n",
    "    plt.xticks(rotation=30)\n",
    "    plt.ylabel('Greek Value')\n",
    "    plt.xlabel('Scenario')\n",
    "    plt.grid(True)\n",
    "    plt.tight_layout()\n",
    "    plt.legend(title='Greek')\n",
    "    plt.show()"
   ]
  },
  {
   "cell_type": "markdown",
   "id": "d7ffb190",
   "metadata": {},
   "source": [
    "<span style=\"font-size:40px; font-family:'Times new roman'; font-weight:bold;\">\n",
    "NVDA data, with spot spike +- 10%, IV spike +- 10% and Time Decay\n",
    "</span>"
   ]
  },
  {
   "cell_type": "code",
   "execution_count": 124,
   "id": "dd0e4082",
   "metadata": {},
   "outputs": [
    {
     "data": {
      "text/plain": [
       "type                       call\n",
       "strike                     95.0\n",
       "ttm                    0.010959\n",
       "AveragePrice              4.825\n",
       "impliedVolatility      1.067143\n",
       "spot                  94.309998\n",
       "dividendYield              0.04\n",
       "expiry               2025-04-11\n",
       "modelPrice             3.888291\n",
       "Name: 4, dtype: object"
      ]
     },
     "execution_count": 124,
     "metadata": {},
     "output_type": "execute_result"
    }
   ],
   "source": [
    "nvda.iloc[4]"
   ]
  },
  {
   "cell_type": "code",
   "execution_count": 129,
   "id": "6d419681",
   "metadata": {},
   "outputs": [
    {
     "data": {
      "text/html": [
       "<div>\n",
       "<style scoped>\n",
       "    .dataframe tbody tr th:only-of-type {\n",
       "        vertical-align: middle;\n",
       "    }\n",
       "\n",
       "    .dataframe tbody tr th {\n",
       "        vertical-align: top;\n",
       "    }\n",
       "\n",
       "    .dataframe thead th {\n",
       "        text-align: right;\n",
       "    }\n",
       "</style>\n",
       "<table border=\"1\" class=\"dataframe\">\n",
       "  <thead>\n",
       "    <tr style=\"text-align: right;\">\n",
       "      <th></th>\n",
       "      <th>Scenario</th>\n",
       "      <th>delta</th>\n",
       "      <th>gamma</th>\n",
       "      <th>theta</th>\n",
       "      <th>vega</th>\n",
       "      <th>modelPrice</th>\n",
       "    </tr>\n",
       "  </thead>\n",
       "  <tbody>\n",
       "    <tr>\n",
       "      <th>0</th>\n",
       "      <td>Base</td>\n",
       "      <td>0.482433</td>\n",
       "      <td>0.000011</td>\n",
       "      <td>-205.438102</td>\n",
       "      <td>3.935480</td>\n",
       "      <td>3.888291</td>\n",
       "    </tr>\n",
       "    <tr>\n",
       "      <th>1</th>\n",
       "      <td>Spot Up 10%</td>\n",
       "      <td>0.795106</td>\n",
       "      <td>0.077786</td>\n",
       "      <td>-147.054620</td>\n",
       "      <td>3.245020</td>\n",
       "      <td>10.094551</td>\n",
       "    </tr>\n",
       "    <tr>\n",
       "      <th>2</th>\n",
       "      <td>Spot Down 10%</td>\n",
       "      <td>0.168998</td>\n",
       "      <td>0.097985</td>\n",
       "      <td>-106.873709</td>\n",
       "      <td>2.071164</td>\n",
       "      <td>0.815648</td>\n",
       "    </tr>\n",
       "    <tr>\n",
       "      <th>3</th>\n",
       "      <td>Vol Up 10%</td>\n",
       "      <td>0.484653</td>\n",
       "      <td>0.000011</td>\n",
       "      <td>-225.901074</td>\n",
       "      <td>3.934173</td>\n",
       "      <td>4.308194</td>\n",
       "    </tr>\n",
       "    <tr>\n",
       "      <th>4</th>\n",
       "      <td>Vol Down 10%</td>\n",
       "      <td>0.480216</td>\n",
       "      <td>0.000009</td>\n",
       "      <td>-184.958338</td>\n",
       "      <td>3.936663</td>\n",
       "      <td>3.468255</td>\n",
       "    </tr>\n",
       "  </tbody>\n",
       "</table>\n",
       "</div>"
      ],
      "text/plain": [
       "        Scenario     delta     gamma       theta      vega  modelPrice\n",
       "0           Base  0.482433  0.000011 -205.438102  3.935480    3.888291\n",
       "1    Spot Up 10%  0.795106  0.077786 -147.054620  3.245020   10.094551\n",
       "2  Spot Down 10%  0.168998  0.097985 -106.873709  2.071164    0.815648\n",
       "3     Vol Up 10%  0.484653  0.000011 -225.901074  3.934173    4.308194\n",
       "4   Vol Down 10%  0.480216  0.000009 -184.958338  3.936663    3.468255"
      ]
     },
     "execution_count": 129,
     "metadata": {},
     "output_type": "execute_result"
    }
   ],
   "source": [
    "nvdaScenario = calculateScenario(nvda)\n",
    "nvdaScenario"
   ]
  },
  {
   "cell_type": "code",
   "execution_count": 133,
   "id": "29b16d01",
   "metadata": {},
   "outputs": [
    {
     "data": {
      "image/png": "[encoded data removed]",
      "text/plain": [
       "<Figure size 750x450 with 1 Axes>"
      ]
     },
     "metadata": {},
     "output_type": "display_data"
    }
   ],
   "source": [
    "plotCheck(nvdaScenario, \"NVDA\")"
   ]
  },
  {
   "cell_type": "markdown",
   "id": "4230cf63",
   "metadata": {},
   "source": [
    "<span style=\"font-size:40px; font-family:'Times new roman'; font-weight:bold;\">\n",
    "SPY data, with spot spike +- 10%, IV spike +- 10% and Time Decay\n",
    "</span>"
   ]
  },
  {
   "cell_type": "code",
   "execution_count": 80,
   "id": "bc70492f",
   "metadata": {},
   "outputs": [
    {
     "data": {
      "text/plain": [
       "type                       call\n",
       "strike                    505.0\n",
       "ttm                    0.010959\n",
       "AveragePrice             15.185\n",
       "impliedVolatility      0.582402\n",
       "spot                 505.279999\n",
       "dividendYield              1.28\n",
       "expiry               2025-04-11\n",
       "modelPrice             9.860473\n",
       "Name: 4, dtype: object"
      ]
     },
     "execution_count": 80,
     "metadata": {},
     "output_type": "execute_result"
    }
   ],
   "source": [
    "spy.iloc[4]"
   ]
  },
  {
   "cell_type": "code",
   "execution_count": 135,
   "id": "cc38a20c",
   "metadata": {},
   "outputs": [
    {
     "data": {
      "text/html": [
       "<div>\n",
       "<style scoped>\n",
       "    .dataframe tbody tr th:only-of-type {\n",
       "        vertical-align: middle;\n",
       "    }\n",
       "\n",
       "    .dataframe tbody tr th {\n",
       "        vertical-align: top;\n",
       "    }\n",
       "\n",
       "    .dataframe thead th {\n",
       "        text-align: right;\n",
       "    }\n",
       "</style>\n",
       "<table border=\"1\" class=\"dataframe\">\n",
       "  <thead>\n",
       "    <tr style=\"text-align: right;\">\n",
       "      <th></th>\n",
       "      <th>Scenario</th>\n",
       "      <th>delta</th>\n",
       "      <th>gamma</th>\n",
       "      <th>theta</th>\n",
       "      <th>vega</th>\n",
       "      <th>modelPrice</th>\n",
       "    </tr>\n",
       "  </thead>\n",
       "  <tbody>\n",
       "    <tr>\n",
       "      <th>0</th>\n",
       "      <td>Base</td>\n",
       "      <td>0.463504</td>\n",
       "      <td>0.023348</td>\n",
       "      <td>-381.892077</td>\n",
       "      <td>20.274553</td>\n",
       "      <td>9.860473</td>\n",
       "    </tr>\n",
       "    <tr>\n",
       "      <th>1</th>\n",
       "      <td>Spot Up 10%</td>\n",
       "      <td>1.000000</td>\n",
       "      <td>0.000000</td>\n",
       "      <td>0.000000</td>\n",
       "      <td>0.000000</td>\n",
       "      <td>50.807999</td>\n",
       "    </tr>\n",
       "    <tr>\n",
       "      <th>2</th>\n",
       "      <td>Spot Down 10%</td>\n",
       "      <td>0.029375</td>\n",
       "      <td>0.000271</td>\n",
       "      <td>-60.857441</td>\n",
       "      <td>3.162701</td>\n",
       "      <td>0.297927</td>\n",
       "    </tr>\n",
       "    <tr>\n",
       "      <th>3</th>\n",
       "      <td>Vol Up 10%</td>\n",
       "      <td>0.468156</td>\n",
       "      <td>0.022906</td>\n",
       "      <td>-436.908754</td>\n",
       "      <td>20.363672</td>\n",
       "      <td>11.044006</td>\n",
       "    </tr>\n",
       "    <tr>\n",
       "      <th>4</th>\n",
       "      <td>Vol Down 10%</td>\n",
       "      <td>0.458344</td>\n",
       "      <td>0.023953</td>\n",
       "      <td>-327.635034</td>\n",
       "      <td>20.156888</td>\n",
       "      <td>8.683073</td>\n",
       "    </tr>\n",
       "  </tbody>\n",
       "</table>\n",
       "</div>"
      ],
      "text/plain": [
       "        Scenario     delta     gamma       theta       vega  modelPrice\n",
       "0           Base  0.463504  0.023348 -381.892077  20.274553    9.860473\n",
       "1    Spot Up 10%  1.000000  0.000000    0.000000   0.000000   50.807999\n",
       "2  Spot Down 10%  0.029375  0.000271  -60.857441   3.162701    0.297927\n",
       "3     Vol Up 10%  0.468156  0.022906 -436.908754  20.363672   11.044006\n",
       "4   Vol Down 10%  0.458344  0.023953 -327.635034  20.156888    8.683073"
      ]
     },
     "execution_count": 135,
     "metadata": {},
     "output_type": "execute_result"
    }
   ],
   "source": [
    "spyScenario = calculateScenario(spy)\n",
    "spyScenario"
   ]
  },
  {
   "cell_type": "code",
   "execution_count": 136,
   "id": "4a88bf27",
   "metadata": {},
   "outputs": [
    {
     "data": {
      "image/png": "[encoded data removed]",
      "text/plain": [
       "<Figure size 750x450 with 1 Axes>"
      ]
     },
     "metadata": {},
     "output_type": "display_data"
    }
   ],
   "source": [
    "plotCheck(spyScenario, \"SPY\")"
   ]
  }
 ],
 "metadata": {
  "kernelspec": {
   "display_name": "Python 3",
   "language": "python",
   "name": "python3"
  },
  "language_info": {
   "codemirror_mode": {
    "name": "ipython",
    "version": 3
   },
   "file_extension": ".py",
   "mimetype": "text/x-python",
   "name": "python",
   "nbconvert_exporter": "python",
   "pygments_lexer": "ipython3",
   "version": "3.13.2"
  }
 },
 "nbformat": 4,
 "nbformat_minor": 5
}
