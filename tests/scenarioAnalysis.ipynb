{
 "cells": [
  {
   "cell_type": "markdown",
   "id": "30cecab6",
   "metadata": {},
   "source": [
    "<span style=\"font-size:40px; font-family:'Times new roman'; font-weight:bold\">\n",
    "Import Data 🎒\n",
    "</span>"
   ]
  },
  {
   "cell_type": "code",
   "execution_count": 2,
   "id": "0836eed2",
   "metadata": {},
   "outputs": [],
   "source": [
    "import sys\n",
    "import pandas as pd\n",
    "import matplotlib.pyplot as plt\n",
    "import seaborn as sns\n",
    "\n",
    "sys.path.append('../src')\n",
    "from binomial import binomial\n",
    "from greeks import greeks"
   ]
  },
  {
   "cell_type": "code",
   "execution_count": 7,
   "id": "00ce2229",
   "metadata": {},
   "outputs": [],
   "source": [
    "nvda = pd.read_csv(\"../data/cleanedNVDA.csv\")\n",
    "spy = pd.read_csv(\"../data/cleanedSPY.csv\")\n",
    "expiry = [nvda['expiry'].unique()[0], spy['expiry'].unique()[0]]"
   ]
  },
  {
   "cell_type": "markdown",
   "id": "cb44aa71",
   "metadata": {},
   "source": [
    "<span style=\"font-size:20px; font-family:'Times new roman';\">\n",
    "Let's use the nearest strike to spot and TTM\n",
    "</span>"
   ]
  },
  {
   "cell_type": "code",
   "execution_count": 11,
   "id": "dd0e4082",
   "metadata": {},
   "outputs": [
    {
     "data": {
      "text/plain": [
       "type                       call\n",
       "strike                     95.0\n",
       "ttm                    0.010959\n",
       "AveragePrice              4.825\n",
       "impliedVolatility      1.067143\n",
       "spot                  94.309998\n",
       "dividendYield              0.04\n",
       "expiry               2025-04-11\n",
       "modelPrice             3.888291\n",
       "Name: 4, dtype: object"
      ]
     },
     "execution_count": 11,
     "metadata": {},
     "output_type": "execute_result"
    }
   ],
   "source": [
    "nvda.iloc[4]"
   ]
  },
  {
   "cell_type": "markdown",
   "id": "d7ffb190",
   "metadata": {},
   "source": [
    "<span style=\"font-size:40px; font-family:'Times new roman'; font-weight:bold;\">\n",
    "Scenario 1 Spot Shock +- 10% 📈\n",
    "</span>"
   ]
  },
  {
   "cell_type": "code",
   "execution_count": 13,
   "id": "410888e7",
   "metadata": {},
   "outputs": [],
   "source": [
    "# sample data: row 6 from NVDAcleaned\n",
    "row = nvda.iloc[4]\n",
    "\n",
    "S = row['spot']\n",
    "K = row['strike']\n",
    "T = row['ttm']\n",
    "sigma = row['impliedVolatility']\n",
    "q = row['dividendYield']\n",
    "ot = row['type']"
   ]
  },
  {
   "cell_type": "code",
   "execution_count": null,
   "id": "722e8bde",
   "metadata": {},
   "outputs": [],
   "source": [
    "scenario = {}\n",
    "\n",
    "# Original case\n",
    "scenario['Base'] = greeks(S, K, T, q, ot, sigma)\n",
    "\n",
    "# Spot Price +10%\n",
    "scenario['Spot Up 10%'] = greeks(S * 1.10, K, T, q, ot, sigma)\n",
    "\n",
    "# Spot Price -10%\n",
    "scenario['Spot Down 10%'] = greeks(S * 0.90, K, T, q, ot, sigma)\n",
    "\n",
    "# Volatility +10%\n",
    "scenario['Vol Up 10%'] = greeks(S, K, T, q, ot, sigma * 1.10)\n",
    "\n",
    "# Volatility -10%\n",
    "scenario['Vol Down 10%'] = greeks(S, K, T, q, ot, sigma * 0.90)\n",
    "\n",
    "# Time Decay: 5 day\n",
    "if T - (5/365) > 0:\n",
    "    scenario['5 Days Less'] = greeks(S, K, T - (5/365), q, ot, sigma)\n",
    "else:\n",
    "    scenario['5 Days Less'] = None\n"
   ]
  },
  {
   "cell_type": "code",
   "execution_count": 22,
   "id": "58f15936",
   "metadata": {},
   "outputs": [
    {
     "ename": "AttributeError",
     "evalue": "'NoneType' object has no attribute 'items'",
     "output_type": "error",
     "traceback": [
      "\u001b[31m---------------------------------------------------------------------------\u001b[39m",
      "\u001b[31mAttributeError\u001b[39m                            Traceback (most recent call last)",
      "\u001b[32m~\\AppData\\Local\\Temp\\ipykernel_106396\\275935502.py\u001b[39m in \u001b[36m?\u001b[39m\u001b[34m()\u001b[39m\n\u001b[32m----> \u001b[39m\u001b[32m1\u001b[39m scenario1 = pd.DataFrame.from_dict(scenario, orient=\u001b[33m'index'\u001b[39m)\n\u001b[32m      2\u001b[39m scenarios_df.index.name = \u001b[33m'Scenario'\u001b[39m\n\u001b[32m      3\u001b[39m scenarios_df.reset_index(inplace=\u001b[38;5;28;01mTrue\u001b[39;00m)\n",
      "\u001b[32mc:\\Users\\jeant\\AppData\\Local\\Programs\\Python\\Python313\\Lib\\site-packages\\pandas\\core\\frame.py\u001b[39m in \u001b[36m?\u001b[39m\u001b[34m(cls, data, orient, dtype, columns)\u001b[39m\n\u001b[32m   1897\u001b[39m         \u001b[38;5;28;01mif\u001b[39;00m orient == \u001b[33m\"index\"\u001b[39m:\n\u001b[32m   1898\u001b[39m             \u001b[38;5;28;01mif\u001b[39;00m len(data) > \u001b[32m0\u001b[39m:\n\u001b[32m   1899\u001b[39m                 \u001b[38;5;66;03m# TODO speed up Series case\u001b[39;00m\n\u001b[32m   1900\u001b[39m                 \u001b[38;5;28;01mif\u001b[39;00m isinstance(next(iter(data.values())), (Series, dict)):\n\u001b[32m-> \u001b[39m\u001b[32m1901\u001b[39m                     data = _from_nested_dict(data)\n\u001b[32m   1902\u001b[39m                 \u001b[38;5;28;01melse\u001b[39;00m:\n\u001b[32m   1903\u001b[39m                     index = list(data.keys())\n\u001b[32m   1904\u001b[39m                     \u001b[38;5;66;03m# error: Incompatible types in assignment (expression has type\u001b[39;00m\n",
      "\u001b[32mc:\\Users\\jeant\\AppData\\Local\\Programs\\Python\\Python313\\Lib\\site-packages\\pandas\\core\\frame.py\u001b[39m in \u001b[36m?\u001b[39m\u001b[34m(data)\u001b[39m\n\u001b[32m  12667\u001b[39m \u001b[38;5;28;01mdef\u001b[39;00m _from_nested_dict(data) -> collections.defaultdict:\n\u001b[32m  12668\u001b[39m     new_data: collections.defaultdict = collections.defaultdict(dict)\n\u001b[32m  12669\u001b[39m     \u001b[38;5;28;01mfor\u001b[39;00m index, s \u001b[38;5;28;01min\u001b[39;00m data.items():\n\u001b[32m> \u001b[39m\u001b[32m12670\u001b[39m         \u001b[38;5;28;01mfor\u001b[39;00m col, v \u001b[38;5;28;01min\u001b[39;00m s.items():\n\u001b[32m  12671\u001b[39m             new_data[col][index] = v\n\u001b[32m  12672\u001b[39m     \u001b[38;5;28;01mreturn\u001b[39;00m new_data\n",
      "\u001b[31mAttributeError\u001b[39m: 'NoneType' object has no attribute 'items'"
     ]
    }
   ],
   "source": [
    "scenario1 = pd.DataFrame.from_dict(scenario, orient='index')\n",
    "scenarios_df.index.name = 'Scenario'\n",
    "scenarios_df.reset_index(inplace=True)"
   ]
  }
 ],
 "metadata": {
  "kernelspec": {
   "display_name": "Python 3",
   "language": "python",
   "name": "python3"
  },
  "language_info": {
   "codemirror_mode": {
    "name": "ipython",
    "version": 3
   },
   "file_extension": ".py",
   "mimetype": "text/x-python",
   "name": "python",
   "nbconvert_exporter": "python",
   "pygments_lexer": "ipython3",
   "version": "3.13.2"
  }
 },
 "nbformat": 4,
 "nbformat_minor": 5
}
