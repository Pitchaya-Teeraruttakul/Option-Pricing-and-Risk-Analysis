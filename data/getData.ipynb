{
 "cells": [
  {
   "cell_type": "code",
   "execution_count": 1,
   "metadata": {},
   "outputs": [],
   "source": [
    "import pandas as pd\n",
    "import yfinance as yf\n",
    "import json"
   ]
  },
  {
   "cell_type": "code",
   "execution_count": 3,
   "metadata": {},
   "outputs": [],
   "source": [
    "tickerM = \"SPY\"\n",
    "tickerS = \"NVDA\"\n",
    "spy = yf.Ticker(tickerM)\n",
    "nvda = yf.Ticker(tickerS)"
   ]
  },
  {
   "cell_type": "code",
   "execution_count": 4,
   "metadata": {},
   "outputs": [
    {
     "name": "stdout",
     "output_type": "stream",
     "text": [
      "['__class__', '__delattr__', '__dict__', '__dir__', '__doc__', '__eq__', '__firstlineno__', '__format__', '__ge__', '__getattribute__', '__getstate__', '__gt__', '__hash__', '__init__', '__init_subclass__', '__le__', '__lt__', '__module__', '__ne__', '__new__', '__reduce__', '__reduce_ex__', '__repr__', '__setattr__', '__sizeof__', '__static_attributes__', '__str__', '__subclasshook__', '__weakref__', '_analysis', '_data', '_download_options', '_earnings', '_earnings_dates', '_expirations', '_fast_info', '_fetch_ticker_tz', '_financials', '_fundamentals', '_funds_data', '_get_ticker_tz', '_holders', '_isin', '_lazy_load_price_history', '_news', '_options2df', '_price_history', '_quote', '_shares', '_tz', '_underlying', 'actions', 'analyst_price_targets', 'balance_sheet', 'balancesheet', 'basic_info', 'calendar', 'capital_gains', 'cash_flow', 'cashflow', 'dividends', 'earnings', 'earnings_dates', 'earnings_estimate', 'earnings_history', 'eps_revisions', 'eps_trend', 'fast_info', 'financials', 'funds_data', 'get_actions', 'get_analyst_price_targets', 'get_balance_sheet', 'get_balancesheet', 'get_calendar', 'get_capital_gains', 'get_cash_flow', 'get_cashflow', 'get_dividends', 'get_earnings', 'get_earnings_dates', 'get_earnings_estimate', 'get_earnings_history', 'get_eps_revisions', 'get_eps_trend', 'get_fast_info', 'get_financials', 'get_funds_data', 'get_growth_estimates', 'get_history_metadata', 'get_income_stmt', 'get_incomestmt', 'get_info', 'get_insider_purchases', 'get_insider_roster_holders', 'get_insider_transactions', 'get_institutional_holders', 'get_isin', 'get_major_holders', 'get_mutualfund_holders', 'get_news', 'get_recommendations', 'get_recommendations_summary', 'get_revenue_estimate', 'get_sec_filings', 'get_shares', 'get_shares_full', 'get_splits', 'get_sustainability', 'get_upgrades_downgrades', 'growth_estimates', 'history', 'history_metadata', 'income_stmt', 'incomestmt', 'info', 'insider_purchases', 'insider_roster_holders', 'insider_transactions', 'institutional_holders', 'isin', 'major_holders', 'mutualfund_holders', 'news', 'option_chain', 'options', 'proxy', 'quarterly_balance_sheet', 'quarterly_balancesheet', 'quarterly_cash_flow', 'quarterly_cashflow', 'quarterly_earnings', 'quarterly_financials', 'quarterly_income_stmt', 'quarterly_incomestmt', 'recommendations', 'recommendations_summary', 'revenue_estimate', 'sec_filings', 'session', 'shares', 'splits', 'sustainability', 'ticker', 'ttm_cash_flow', 'ttm_cashflow', 'ttm_financials', 'ttm_income_stmt', 'ttm_incomestmt', 'upgrades_downgrades']\n",
      "                                 Open        High         Low       Close  \\\n",
      "Date                                                                        \n",
      "2025-02-26 00:00:00-05:00  594.142682  597.781759  590.084881  592.756836   \n",
      "2025-02-27 00:00:00-05:00  595.059885  596.226420  582.896524  583.295288   \n",
      "2025-02-28 00:00:00-05:00  583.803807  592.936308  580.693169  592.397949   \n",
      "2025-03-03 00:00:00-05:00  594.391918  595.548473  578.160777  582.019165   \n",
      "2025-03-04 00:00:00-05:00  577.971372  583.634329  570.533724  575.129883   \n",
      "\n",
      "                              Volume  Dividends  Stock Splits  Capital Gains  \n",
      "Date                                                                          \n",
      "2025-02-26 00:00:00-05:00   43321600        0.0           0.0            0.0  \n",
      "2025-02-27 00:00:00-05:00   74196700        0.0           0.0            0.0  \n",
      "2025-02-28 00:00:00-05:00   88744100        0.0           0.0            0.0  \n",
      "2025-03-03 00:00:00-05:00   74249200        0.0           0.0            0.0  \n",
      "2025-03-04 00:00:00-05:00  109648200        0.0           0.0            0.0  \n"
     ]
    }
   ],
   "source": [
    "print(dir(spy))\n",
    "print(spy.history(period=\"1mo\").head())"
   ]
  },
  {
   "cell_type": "code",
   "execution_count": 7,
   "metadata": {},
   "outputs": [
    {
     "name": "stdout",
     "output_type": "stream",
     "text": [
      "{\n",
      "    \"longBusinessSummary\": \"The trust seeks to achieve its investment objective by holding a portfolio of the common stocks that are included in the index, with the weight of each stock in the portfolio substantially corresponding to the weight of such stock in the index.\",\n",
      "    \"companyOfficers\": [],\n",
      "    \"executiveTeam\": [],\n",
      "    \"maxAge\": 86400,\n",
      "    \"priceHint\": 2,\n",
      "    \"previousClose\": 563.794,\n",
      "    \"open\": 559.28,\n",
      "    \"dayLow\": 558.03,\n",
      "    \"dayHigh\": 564.89,\n",
      "    \"regularMarketPreviousClose\": 563.794,\n",
      "    \"regularMarketOpen\": 559.28,\n",
      "    \"regularMarketDayLow\": 558.03,\n",
      "    \"regularMarketDayHigh\": 564.89,\n",
      "    \"trailingPE\": 24.992039,\n",
      "    \"volume\": 83467169,\n",
      "    \"regularMarketVolume\": 83467169,\n",
      "    \"averageVolume\": 55270543,\n",
      "    \"averageVolume10days\": 72198770,\n",
      "    \"averageDailyVolume10Day\": 72198770,\n",
      "    \"bid\": 564.91,\n",
      "    \"ask\": 564.97,\n",
      "    \"bidSize\": 10,\n",
      "    \"askSize\": 11,\n",
      "    \"yield\": 0.0119,\n",
      "    \"totalAssets\": 634082230272,\n",
      "    \"fiftyTwoWeekLow\": 493.86,\n",
      "    \"fiftyTwoWeekHigh\": 613.23,\n",
      "    \"fiftyDayAverage\": 590.1158,\n",
      "    \"twoHundredDayAverage\": 573.65857,\n",
      "    \"trailingAnnualDividendRate\": 5.662,\n",
      "    \"trailingAnnualDividendYield\": 0.010042676,\n",
      "    \"navPrice\": 564.478,\n",
      "    \"currency\": \"USD\",\n",
      "    \"tradeable\": false,\n",
      "    \"category\": \"Large Blend\",\n",
      "    \"ytdReturn\": 1.43002,\n",
      "    \"beta3Year\": 1.0,\n",
      "    \"fundFamily\": \"SPDR State Street Global Advisors\",\n",
      "    \"fundInceptionDate\": 727660800,\n",
      "    \"legalType\": \"Exchange Traded Fund\",\n",
      "    \"threeYearAverageReturn\": 0.0986757,\n",
      "    \"fiveYearAverageReturn\": 0.21539289,\n",
      "    \"quoteType\": \"ETF\",\n",
      "    \"symbol\": \"SPY\",\n",
      "    \"language\": \"en-US\",\n",
      "    \"region\": \"US\",\n",
      "    \"typeDisp\": \"ETF\",\n",
      "    \"quoteSourceName\": \"Delayed Quote\",\n",
      "    \"triggerable\": true,\n",
      "    \"customPriceAlertConfidence\": \"HIGH\",\n",
      "    \"hasPrePostMarketData\": true,\n",
      "    \"firstTradeDateMilliseconds\": 728317800000,\n",
      "    \"postMarketChangePercent\": 0.17553641,\n",
      "    \"postMarketPrice\": 564.97,\n",
      "    \"postMarketChange\": 0.98999023,\n",
      "    \"regularMarketChange\": 0.185486,\n",
      "    \"regularMarketDayRange\": \"558.03 - 564.89\",\n",
      "    \"fullExchangeName\": \"NYSEArca\",\n",
      "    \"financialCurrency\": \"USD\",\n",
      "    \"averageDailyVolume3Month\": 55270543,\n",
      "    \"fiftyTwoWeekLowChange\": 70.119995,\n",
      "    \"fiftyTwoWeekLowChangePercent\": 0.14198355,\n",
      "    \"fiftyTwoWeekRange\": \"493.86 - 613.23\",\n",
      "    \"fiftyTwoWeekHighChange\": -49.25,\n",
      "    \"fiftyTwoWeekHighChangePercent\": -0.080312446,\n",
      "    \"fiftyTwoWeekChangePercent\": 8.50569,\n",
      "    \"regularMarketChangePercent\": 0.0328995,\n",
      "    \"regularMarketPrice\": 563.98,\n",
      "    \"dividendYield\": 1.19,\n",
      "    \"trailingThreeMonthReturns\": -0.99021,\n",
      "    \"trailingThreeMonthNavReturns\": -0.99021,\n",
      "    \"netAssets\": 634082230000.0,\n",
      "    \"epsTrailingTwelveMonths\": 22.566385,\n",
      "    \"sharesOutstanding\": 917782016,\n",
      "    \"bookValue\": 429.22,\n",
      "    \"fiftyDayAverageChange\": -26.135803,\n",
      "    \"fiftyDayAverageChangePercent\": -0.04428928,\n",
      "    \"twoHundredDayAverageChange\": -9.678589,\n",
      "    \"twoHundredDayAverageChangePercent\": -0.016871689,\n",
      "    \"netExpenseRatio\": 0.0945,\n",
      "    \"marketCap\": 517610668032,\n",
      "    \"priceToBook\": 1.3139648,\n",
      "    \"sourceInterval\": 15,\n",
      "    \"exchangeDataDelayedBy\": 0,\n",
      "    \"corporateActions\": [],\n",
      "    \"postMarketTime\": 1742601595,\n",
      "    \"regularMarketTime\": 1742587200,\n",
      "    \"marketState\": \"CLOSED\",\n",
      "    \"shortName\": \"SPDR S&P 500\",\n",
      "    \"longName\": \"SPDR S&P 500 ETF Trust\",\n",
      "    \"exchange\": \"PCX\",\n",
      "    \"messageBoardId\": \"finmb_6160262\",\n",
      "    \"exchangeTimezoneName\": \"America/New_York\",\n",
      "    \"exchangeTimezoneShortName\": \"EDT\",\n",
      "    \"gmtOffSetMilliseconds\": -14400000,\n",
      "    \"market\": \"us_market\",\n",
      "    \"esgPopulated\": false,\n",
      "    \"cryptoTradeable\": false,\n",
      "    \"trailingPegRatio\": null\n",
      "}\n"
     ]
    }
   ],
   "source": [
    "print(json.dumps(spy.info, indent=4))"
   ]
  }
 ],
 "metadata": {
  "kernelspec": {
   "display_name": "Python 3",
   "language": "python",
   "name": "python3"
  },
  "language_info": {
   "codemirror_mode": {
    "name": "ipython",
    "version": 3
   },
   "file_extension": ".py",
   "mimetype": "text/x-python",
   "name": "python",
   "nbconvert_exporter": "python",
   "pygments_lexer": "ipython3",
   "version": "3.13.2"
  }
 },
 "nbformat": 4,
 "nbformat_minor": 2
}
